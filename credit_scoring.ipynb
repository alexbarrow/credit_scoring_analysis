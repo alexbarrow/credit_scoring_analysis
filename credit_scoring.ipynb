{
 "cells": [
  {
   "cell_type": "code",
   "execution_count": 1,
   "metadata": {},
   "outputs": [
    {
     "name": "stdout",
     "output_type": "stream",
     "text": [
      "Populating the interactive namespace from numpy and matplotlib\n"
     ]
    }
   ],
   "source": [
    "import numpy as np\n",
    "import pandas as pd\n",
    "from scipy import stats\n",
    "\n",
    "import statsmodels.api as sm\n",
    "import seaborn as sns\n",
    "from statsmodels.stats.multitest import multipletests\n",
    "\n",
    "%pylab inline"
   ]
  },
  {
   "cell_type": "markdown",
   "metadata": {},
   "source": [
    "Описание датасета:\n",
    "\n",
    "* LIMIT_BAL:  размер кредитного лимита (в том числе и на семью клиента)\n",
    "\n",
    "* SEX: пол клиента (1 = мужской, 2 = женский )\n",
    "\n",
    "* EDUCATION: образование (0 = доктор, 1 = магистр; 2 = бакалавр; 3 = выпускник школы; 4 = начальное образование; 5= прочее; 6 = нет данных ).\n",
    "\n",
    "* MARRIAGE: (0 = отказываюсь отвечать; 1 = замужем/женат; 2 = холост; 3 = нет данных). \n",
    "\n",
    "* AGE: возраст в годах\n",
    "\n",
    "* PAY_0 - PAY_6 : История прошлых платежей по кредиту. PAY_6 - платеж в апреле, ... Pay_0 - платеж в сентябре. Платеж = (0 = исправный платеж, 1=задержка в один месяц, 2=задержка в 2 месяца ...)\n",
    "\n",
    "* BILL_AMT1 - BILL_AMT6:  задолженность,  BILL_AMT6 - на апрель, BILL_AMT1 - на сентябрь \n",
    "\n",
    "* PAY_AMT1 - PAY_AMT6: сумма уплаченная в PAY_AMT6 - апреле, ..., PAY_AMT1 - сентябре \n",
    "\n",
    "* default - индикатор невозврата денежных средств"
   ]
  },
  {
   "cell_type": "markdown",
   "metadata": {},
   "source": [
    "Задача: изучить статистическую и практическую значимость признаков по отношению к default.  Загрузим данные и оставим только интересующие признаки."
   ]
  },
  {
   "cell_type": "code",
   "execution_count": 4,
   "metadata": {},
   "outputs": [
    {
     "name": "stdout",
     "output_type": "stream",
     "text": [
      "(30000, 25)\n"
     ]
    }
   ],
   "source": [
    "df = pd.read_csv('credit_card_default_analysis.csv')\n",
    "print(df.shape)\n",
    "data = df[['LIMIT_BAL','SEX', 'EDUCATION', 'MARRIAGE', 'AGE', 'default']]"
   ]
  },
  {
   "cell_type": "code",
   "execution_count": 5,
   "metadata": {},
   "outputs": [
    {
     "data": {
      "text/html": [
       "<div>\n",
       "<style scoped>\n",
       "    .dataframe tbody tr th:only-of-type {\n",
       "        vertical-align: middle;\n",
       "    }\n",
       "\n",
       "    .dataframe tbody tr th {\n",
       "        vertical-align: top;\n",
       "    }\n",
       "\n",
       "    .dataframe thead th {\n",
       "        text-align: right;\n",
       "    }\n",
       "</style>\n",
       "<table border=\"1\" class=\"dataframe\">\n",
       "  <thead>\n",
       "    <tr style=\"text-align: right;\">\n",
       "      <th></th>\n",
       "      <th>LIMIT_BAL</th>\n",
       "      <th>SEX</th>\n",
       "      <th>EDUCATION</th>\n",
       "      <th>MARRIAGE</th>\n",
       "      <th>AGE</th>\n",
       "      <th>default</th>\n",
       "    </tr>\n",
       "  </thead>\n",
       "  <tbody>\n",
       "    <tr>\n",
       "      <th>0</th>\n",
       "      <td>20000</td>\n",
       "      <td>2</td>\n",
       "      <td>2</td>\n",
       "      <td>1</td>\n",
       "      <td>24</td>\n",
       "      <td>1</td>\n",
       "    </tr>\n",
       "    <tr>\n",
       "      <th>1</th>\n",
       "      <td>120000</td>\n",
       "      <td>2</td>\n",
       "      <td>2</td>\n",
       "      <td>2</td>\n",
       "      <td>26</td>\n",
       "      <td>1</td>\n",
       "    </tr>\n",
       "    <tr>\n",
       "      <th>2</th>\n",
       "      <td>90000</td>\n",
       "      <td>2</td>\n",
       "      <td>2</td>\n",
       "      <td>2</td>\n",
       "      <td>34</td>\n",
       "      <td>0</td>\n",
       "    </tr>\n",
       "    <tr>\n",
       "      <th>3</th>\n",
       "      <td>50000</td>\n",
       "      <td>2</td>\n",
       "      <td>2</td>\n",
       "      <td>1</td>\n",
       "      <td>37</td>\n",
       "      <td>0</td>\n",
       "    </tr>\n",
       "    <tr>\n",
       "      <th>4</th>\n",
       "      <td>50000</td>\n",
       "      <td>1</td>\n",
       "      <td>2</td>\n",
       "      <td>1</td>\n",
       "      <td>57</td>\n",
       "      <td>0</td>\n",
       "    </tr>\n",
       "  </tbody>\n",
       "</table>\n",
       "</div>"
      ],
      "text/plain": [
       "   LIMIT_BAL  SEX  EDUCATION  MARRIAGE  AGE  default\n",
       "0      20000    2          2         1   24        1\n",
       "1     120000    2          2         2   26        1\n",
       "2      90000    2          2         2   34        0\n",
       "3      50000    2          2         1   37        0\n",
       "4      50000    1          2         1   57        0"
      ]
     },
     "execution_count": 5,
     "metadata": {},
     "output_type": "execute_result"
    }
   ],
   "source": [
    "data.head(5)"
   ]
  },
  {
   "cell_type": "code",
   "execution_count": 4,
   "metadata": {},
   "outputs": [
    {
     "data": {
      "text/plain": [
       "0    23364\n",
       "1     6636\n",
       "Name: default, dtype: int64"
      ]
     },
     "execution_count": 4,
     "metadata": {},
     "output_type": "execute_result"
    }
   ],
   "source": [
    "data['default'].value_counts()"
   ]
  },
  {
   "cell_type": "markdown",
   "metadata": {},
   "source": [
    "### Признак LIMIT_BAL"
   ]
  },
  {
   "cell_type": "markdown",
   "metadata": {},
   "source": [
    "Взглянем на признак LIMIT_BAL в каждой из групп default:"
   ]
  },
  {
   "cell_type": "code",
   "execution_count": 5,
   "metadata": {},
   "outputs": [
    {
     "data": {
      "image/png": "[encoded data removed]",
      "text/plain": [
       "<Figure size 360x504 with 1 Axes>"
      ]
     },
     "metadata": {
      "needs_background": "light"
     },
     "output_type": "display_data"
    }
   ],
   "source": [
    "plt.figure(figsize=(5,7))\n",
    "sns.boxplot(x=data['default'], y=data['LIMIT_BAL'], linewidth=2)\n",
    "plt.show()"
   ]
  },
  {
   "cell_type": "code",
   "execution_count": 6,
   "metadata": {},
   "outputs": [
    {
     "data": {
      "image/png": "[encoded data removed]",
      "text/plain": [
       "<Figure size 576x360 with 1 Axes>"
      ]
     },
     "metadata": {
      "needs_background": "light"
     },
     "output_type": "display_data"
    }
   ],
   "source": [
    "plt.figure(figsize=(8,5))\n",
    "plt.hist(data[data['default'] == 0]['LIMIT_BAL'], bins=20, label='default: 0', edgecolor='k')\n",
    "plt.hist(data[data['default'] == 1]['LIMIT_BAL'], bins=20, label='default: 1', edgecolor='k', color='tab:orange')\n",
    "plt.legend()\n",
    "plt.show()"
   ]
  },
  {
   "cell_type": "markdown",
   "metadata": {},
   "source": [
    "\n",
    "Нас интересуют медианные значения. Исходя из графиков, мы видим, что скорее всего медианные значения отличаются. На boxplot выборочные медианы отличны, на гистограме распределения у признака с default 0 имеется более тяжелый хвост, нежели у признака с default 1. \n",
    "\n",
    "Построим доверительные интервалы для медиан с помощью бутстрепа:"
   ]
  },
  {
   "cell_type": "code",
   "execution_count": 40,
   "metadata": {},
   "outputs": [],
   "source": [
    "def get_bootstrap_samples(data, n_samples):\n",
    "    indices = np.random.randint(0, len(data), (n_samples, len(data)))\n",
    "    samples = data[indices]\n",
    "    return samples\n",
    "\n",
    "def stat_intervals(stat, alpha):\n",
    "    boundaries = np.percentile(stat, [100 * alpha / 2., 100 * (1 - alpha / 2.)])\n",
    "    return boundaries\n",
    "\n",
    "\n",
    "no_def_lb = data[data['default'] == 0]['LIMIT_BAL'].values\n",
    "with_def_lb = data[data['default'] == 1]['LIMIT_BAL'].values\n",
    "\n",
    "np.random.seed(0)\n",
    "\n",
    "no_def_lb_scores = list(map(np.median, get_bootstrap_samples(no_def_lb, 10000)))\n",
    "with_def_lb_scores = list(map(np.median, get_bootstrap_samples(with_def_lb, 10000)))"
   ]
  },
  {
   "cell_type": "code",
   "execution_count": 41,
   "metadata": {},
   "outputs": [
    {
     "name": "stdout",
     "output_type": "stream",
     "text": [
      "95% доверительный интервал для медианы выборки с default 0:  [150000. 150000.]\n",
      "95% доверительный интервал для медианы выборки с default 1:  [80000. 90000.]\n"
     ]
    }
   ],
   "source": [
    "print('95% доверительный интервал для медианы выборки с default 0: ', stat_intervals(no_def_lb_scores, 0.05))\n",
    "print('95% доверительный интервал для медианы выборки с default 1: ', stat_intervals(with_def_lb_scores, 0.05))"
   ]
  },
  {
   "cell_type": "markdown",
   "metadata": {},
   "source": [
    "Точечные выборочные оценки:"
   ]
  },
  {
   "cell_type": "code",
   "execution_count": 9,
   "metadata": {},
   "outputs": [
    {
     "name": "stdout",
     "output_type": "stream",
     "text": [
      "Оценка медианы выборки с default 0:  150000.0\n",
      "Оценка медианы выборки с default 1:  90000.0\n",
      "Оценка разности медиан:  60000.0\n"
     ]
    }
   ],
   "source": [
    "print('Оценка медианы выборки с default 0: ', np.median(no_def_lb))\n",
    "print('Оценка медианы выборки с default 1: ', np.median(with_def_lb))\n",
    "print('Оценка разности медиан: ', np.median(no_def_lb)-np.median(with_def_lb))"
   ]
  },
  {
   "cell_type": "markdown",
   "metadata": {},
   "source": [
    "Интервальная оценка разности медиан:"
   ]
  },
  {
   "cell_type": "code",
   "execution_count": 42,
   "metadata": {},
   "outputs": [
    {
     "name": "stdout",
     "output_type": "stream",
     "text": [
      "95% доверительный интервал для разности медиан:  [60000. 70000.]\n"
     ]
    }
   ],
   "source": [
    "delta_median_scores = list(map(lambda x: x[0] - x[1], zip(no_def_lb_scores, with_def_lb_scores)))\n",
    "print('95% доверительный интервал для разности медиан: ',  stat_intervals(delta_median_scores, 0.05))"
   ]
  },
  {
   "cell_type": "markdown",
   "metadata": {},
   "source": [
    "Доверительный интервал не содержит нуля, поэтому разность статистически значимая. \n",
    "\n",
    "Проверим гипотезу о равенстве средних с помощью непараметрического критерия Манни-Уитни.\n",
    "\n",
    "H0: распределения выборок полностью равны,\n",
    "H1: распределения выборок отличаются на величину сдвига."
   ]
  },
  {
   "cell_type": "code",
   "execution_count": 11,
   "metadata": {},
   "outputs": [
    {
     "data": {
      "text/plain": [
       "MannwhitneyuResult(statistic=59257217.5, pvalue=6.127742909111652e-190)"
      ]
     },
     "execution_count": 11,
     "metadata": {},
     "output_type": "execute_result"
    }
   ],
   "source": [
    "stats.mannwhitneyu(no_def_lb, with_def_lb)"
   ]
  },
  {
   "cell_type": "markdown",
   "metadata": {},
   "source": [
    "p-value чрезвычайно мало, поэтому мы уверенно отвергаем нулевую гипотезу о равенстве распределения в пользу альтернативной.\n",
    "\n",
    "Таким образом, люди, которые не возвращают долг, обычно получают меньшую сумму денег. Полученные результаты значимы с практической точки зрения, поскольку разница между медианами существенная. "
   ]
  },
  {
   "cell_type": "markdown",
   "metadata": {},
   "source": [
    "### Признак SEX"
   ]
  },
  {
   "cell_type": "code",
   "execution_count": 12,
   "metadata": {},
   "outputs": [
    {
     "data": {
      "image/png": "[encoded data removed]",
      "text/plain": [
       "<Figure size 360x504 with 1 Axes>"
      ]
     },
     "metadata": {
      "needs_background": "light"
     },
     "output_type": "display_data"
    }
   ],
   "source": [
    "plt.figure(figsize=(5,7))\n",
    "sns.countplot(x=data['SEX'], hue=data['default'], edgecolor='k')\n",
    "plt.show()"
   ]
  },
  {
   "cell_type": "markdown",
   "metadata": {},
   "source": [
    "Проверим, что гендерный состав группы людей вернувших и не вернувших кредит отличается. Будем использовать двустороннюю альтернативу, поскольку у нас нет ожиданий касательно распределения долей вернувших долг в зависимости от пола. \n",
    "\n",
    "Нулевая гипотеза H0:  гендерный состав вернувших и не вернувших кредит не отличается.\n",
    "\n",
    "Нулевая гипотеза H1:  гендерный состав вернувших и не вернувших кредит отличается.\n"
   ]
  },
  {
   "cell_type": "markdown",
   "metadata": {},
   "source": [
    "\n",
    "Для начала пострим доверительные интервалы для долей. Поскольку у нас доли не экстремальные, можно воспользоваться критерием для долей на основе нормального распределения. "
   ]
  },
  {
   "cell_type": "code",
   "execution_count": 13,
   "metadata": {},
   "outputs": [],
   "source": [
    "men = data[data['SEX'] == 1]['default']\n",
    "women = df[df['SEX'] == 2]['default']"
   ]
  },
  {
   "cell_type": "code",
   "execution_count": 14,
   "metadata": {},
   "outputs": [],
   "source": [
    "from statsmodels.stats.proportion import proportion_confint\n",
    "\n",
    "normal_interval_m =  proportion_confint(men.sum(), len(men), alpha=0.05, method='normal')\n",
    "normal_interval_w =  proportion_confint(women.sum(), len(women), alpha=0.05, method='normal')"
   ]
  },
  {
   "cell_type": "code",
   "execution_count": 15,
   "metadata": {},
   "outputs": [
    {
     "name": "stdout",
     "output_type": "stream",
     "text": [
      "95% доверительные интервалы для доли мужчин, не вернувших кредит:  (0.23397679702375163, 0.2493677521014166)\n",
      "95% доверительные интервалы для доли женщин, не вернувших кредит:  (0.20185432056295824, 0.21367129781160007)\n"
     ]
    }
   ],
   "source": [
    "print('95% доверительные интервалы для доли мужчин, не вернувших кредит: ', normal_interval_m)\n",
    "print('95% доверительные интервалы для доли женщин, не вернувших кредит: ', normal_interval_w)"
   ]
  },
  {
   "cell_type": "markdown",
   "metadata": {},
   "source": [
    "Интервалы не пересекаются.  Таким образом, различие в проценте вернувших кредит в зависимости от пола значимо. Воспользуемся z-критерием для разностей долей для независимых выборок:"
   ]
  },
  {
   "cell_type": "code",
   "execution_count": 16,
   "metadata": {},
   "outputs": [],
   "source": [
    "def proportions_diff_confint_ind(a, n1, b, n2, alpha = 0.05):    \n",
    "    z = stats.norm.ppf(1 - alpha / 2.)\n",
    "    \n",
    "    p1 = float(a) / n1\n",
    "    p2 = float(b) / n2\n",
    "    \n",
    "    left_boundary = (p1 - p2) - z * np.sqrt(p1 * (1 - p1)/ n1 + p2 * (1 - p2)/ n2)\n",
    "    right_boundary = (p1 - p2) + z * np.sqrt(p1 * (1 - p1)/ n1 + p2 * (1 - p2)/ n2)\n",
    "    \n",
    "    return (left_boundary, right_boundary)\n",
    "\n",
    "def proportions_diff_z_stat_ind(a, n1, b, n2):   \n",
    "    \n",
    "    p1 = float(a) / n1\n",
    "    p2 = float(b) / n2 \n",
    "    P = float(p1*n1 + p2*n2) / (n1 + n2)\n",
    "    \n",
    "    return (p1 - p2) / np.sqrt(P * (1 - P) * (1. / n1 + 1. / n2))\n",
    "\n",
    "def pvalue_z_test(z_stat, alternative = 'two-sided'):\n",
    "    if alternative not in ('two-sided', 'less', 'greater'):\n",
    "        raise ValueError(\"alternative not recognized\\n\"\n",
    "                         \"should be 'two-sided', 'less' or 'greater'\")\n",
    "    \n",
    "    if alternative == 'two-sided':\n",
    "        return 2 * (1 - stats.norm.cdf(np.abs(z_stat)))\n",
    "    \n",
    "    if alternative == 'less':\n",
    "        return stats.norm.cdf(z_stat)\n",
    "\n",
    "    if alternative == 'greater':\n",
    "        return 1 - stats.norm.cdf(z_stat)\n",
    "\n"
   ]
  },
  {
   "cell_type": "markdown",
   "metadata": {},
   "source": [
    "Построим доверительный интервал для разности долей:"
   ]
  },
  {
   "cell_type": "code",
   "execution_count": 17,
   "metadata": {},
   "outputs": [
    {
     "name": "stdout",
     "output_type": "stream",
     "text": [
      "95% доверительные интервалы для разности долей:  (0.024207372179792706, 0.0436115585708172)\n"
     ]
    }
   ],
   "source": [
    "print('95% доверительные интервалы для разности долей: ', proportions_diff_confint_ind(men.sum(), len(men), women.sum(), len(women)))"
   ]
  },
  {
   "cell_type": "markdown",
   "metadata": {},
   "source": [
    "Интервал не содержит нуля. Найдем z-статистику и построим по ней p-value. "
   ]
  },
  {
   "cell_type": "code",
   "execution_count": 18,
   "metadata": {},
   "outputs": [
    {
     "name": "stdout",
     "output_type": "stream",
     "text": [
      "p_value:  4.472866521609831e-12\n"
     ]
    }
   ],
   "source": [
    "z_stat = proportions_diff_z_stat_ind(men.sum(), len(men), women.sum(), len(women))\n",
    "print('p_value: ', pvalue_z_test(z_stat))"
   ]
  },
  {
   "cell_type": "markdown",
   "metadata": {},
   "source": [
    "Таким образом, на уровне значимости 0.05 (даже на 0.001)  мы уверенно отвергаем нулевую гипотезе об отсутствии различий в долях по гендерному признаку. Мы видим, что доля мужчин, которые не возвращают кредит, выше нежели доля женщин. Разница находится в 95% доверительном интервале (0.024, 0.044). Данное различие практически значимо (2-4% для банка существенная величина)."
   ]
  },
  {
   "cell_type": "markdown",
   "metadata": {},
   "source": [
    "### Признак EDUCATION"
   ]
  },
  {
   "cell_type": "markdown",
   "metadata": {},
   "source": [
    "Посмотрим на число элементов в выборке, соответствующих каждой ступени образования."
   ]
  },
  {
   "cell_type": "code",
   "execution_count": 19,
   "metadata": {},
   "outputs": [
    {
     "name": "stdout",
     "output_type": "stream",
     "text": [
      "2    14030\n",
      "1    10585\n",
      "3     4917\n",
      "5      280\n",
      "4      123\n",
      "6       51\n",
      "0       14\n",
      "Name: EDUCATION, dtype: int64\n"
     ]
    }
   ],
   "source": [
    "print(data['EDUCATION'].value_counts())"
   ]
  },
  {
   "cell_type": "code",
   "execution_count": 20,
   "metadata": {},
   "outputs": [
    {
     "data": {
      "image/png": "[encoded data removed]",
      "text/plain": [
       "<Figure size 648x504 with 1 Axes>"
      ]
     },
     "metadata": {
      "needs_background": "light"
     },
     "output_type": "display_data"
    }
   ],
   "source": [
    "plt.figure(figsize=(9,7))\n",
    "sns.countplot(x=data['EDUCATION'], hue=data['default'], edgecolor='k')\n",
    "plt.show()"
   ]
  },
  {
   "cell_type": "markdown",
   "metadata": {},
   "source": [
    "Посчитаем доли вернувших кредит людей по различным ступеням образования. Ожидаем, что такая доля будет иметь равномерное распределение, что означало бы отутствие какой либо зависимости между возвратом долга и образованием."
   ]
  },
  {
   "cell_type": "code",
   "execution_count": 21,
   "metadata": {},
   "outputs": [],
   "source": [
    "# создадим массивы для долей и числа людей, вернувших кредит. \n",
    "ed_prop = np.empty((7, 2))\n",
    "obs_d0_ed = np.empty(7)\n",
    "\n",
    "for ed in range(7):\n",
    "    ed_prop[ed, 0] = ed\n",
    "    ed_prop[ed, 1] = data.loc[(data['default'] == 0)&( data['EDUCATION'] == ed), 'EDUCATION'].shape[0] / data.loc[data['EDUCATION'] == ed, 'EDUCATION'].shape[0]\n",
    "    \n",
    "    obs_d0_ed[ed] = data.loc[(data['default'] == 0)&( data['EDUCATION'] == ed), 'EDUCATION'].shape[0] "
   ]
  },
  {
   "cell_type": "code",
   "execution_count": 22,
   "metadata": {},
   "outputs": [
    {
     "data": {
      "image/png": "[encoded data removed]",
      "text/plain": [
       "<Figure size 576x432 with 1 Axes>"
      ]
     },
     "metadata": {
      "needs_background": "light"
     },
     "output_type": "display_data"
    }
   ],
   "source": [
    "plt.figure(figsize=(8,6))\n",
    "sns.barplot(x=ed_prop[:,0], y=ed_prop[:,1], palette=\"Blues_d\", edgecolor='k')\n",
    "plt.xlabel('Education')\n",
    "plt.ylabel('Proportion of default=0')\n",
    "plt.show()"
   ]
  },
  {
   "cell_type": "markdown",
   "metadata": {},
   "source": [
    "Заметим, что распределение не похоже на равномерное. Наибольшая доля вернувших кредитов у докторов, что вероятнее всего обуславливается маленьким числом докторов в выборке.  Наименьшая доля у выпускников школы. Посмотрим на ожидаемые значения. Для этого посчитаем среднее значение доли вернувших кредит среди различных ступеней образования. Эту оценку будем использовать для генерации ожидаемых значений."
   ]
  },
  {
   "cell_type": "code",
   "execution_count": 23,
   "metadata": {},
   "outputs": [],
   "source": [
    "prop_ed_mean = ed_prop[:, 1].mean()\n",
    "\n",
    "# число людей, представленных в выборке, с соответствующей ступенью образования (индексы соответствуют значению 'EDUCATION')\n",
    "num_ed = data['EDUCATION'].value_counts(sort=False).values\n",
    "\n",
    "# Ожидаемые значения \n",
    "exp_freq = np.array([prop_ed_mean * num_ed[i] for i in range(7)])"
   ]
  },
  {
   "cell_type": "code",
   "execution_count": 24,
   "metadata": {},
   "outputs": [
    {
     "data": {
      "image/png": "[encoded data removed]",
      "text/plain": [
       "<Figure size 576x432 with 1 Axes>"
      ]
     },
     "metadata": {
      "needs_background": "light"
     },
     "output_type": "display_data"
    }
   ],
   "source": [
    "plt.figure(figsize=(8,6))\n",
    "sns.barplot(x=ed_prop[:,0], y=ed_prop[:,1], palette=\"Blues_d\", edgecolor='k')\n",
    "sns.barplot(x=ed_prop[:,0], y=exp_freq/num_ed, color='black', alpha=0.3, edgecolor='k')\n",
    "plt.xlabel('Education')\n",
    "plt.ylabel('Proportion of default=0')\n",
    "plt.show()"
   ]
  },
  {
   "cell_type": "markdown",
   "metadata": {},
   "source": [
    "Разности между наблюдаемыми и ожидаемыми значениями в долях и значениях (индексы соответствуют значению 'EDUCATION'):"
   ]
  },
  {
   "cell_type": "code",
   "execution_count": 25,
   "metadata": {},
   "outputs": [
    {
     "data": {
      "text/html": [
       "<div>\n",
       "<style scoped>\n",
       "    .dataframe tbody tr th:only-of-type {\n",
       "        vertical-align: middle;\n",
       "    }\n",
       "\n",
       "    .dataframe tbody tr th {\n",
       "        vertical-align: top;\n",
       "    }\n",
       "\n",
       "    .dataframe thead th {\n",
       "        text-align: right;\n",
       "    }\n",
       "</style>\n",
       "<table border=\"1\" class=\"dataframe\">\n",
       "  <thead>\n",
       "    <tr style=\"text-align: right;\">\n",
       "      <th></th>\n",
       "      <th>dif_prop</th>\n",
       "      <th>dif_num</th>\n",
       "    </tr>\n",
       "  </thead>\n",
       "  <tbody>\n",
       "    <tr>\n",
       "      <th>0</th>\n",
       "      <td>0.137047</td>\n",
       "      <td>2.0</td>\n",
       "    </tr>\n",
       "    <tr>\n",
       "      <th>1</th>\n",
       "      <td>-0.055300</td>\n",
       "      <td>-585.0</td>\n",
       "    </tr>\n",
       "    <tr>\n",
       "      <th>2</th>\n",
       "      <td>-0.100301</td>\n",
       "      <td>-1407.0</td>\n",
       "    </tr>\n",
       "    <tr>\n",
       "      <th>3</th>\n",
       "      <td>-0.114529</td>\n",
       "      <td>-563.0</td>\n",
       "    </tr>\n",
       "    <tr>\n",
       "      <th>4</th>\n",
       "      <td>0.080137</td>\n",
       "      <td>10.0</td>\n",
       "    </tr>\n",
       "    <tr>\n",
       "      <th>5</th>\n",
       "      <td>0.072762</td>\n",
       "      <td>20.0</td>\n",
       "    </tr>\n",
       "    <tr>\n",
       "      <th>6</th>\n",
       "      <td>-0.019815</td>\n",
       "      <td>-1.0</td>\n",
       "    </tr>\n",
       "  </tbody>\n",
       "</table>\n",
       "</div>"
      ],
      "text/plain": [
       "   dif_prop  dif_num\n",
       "0  0.137047      2.0\n",
       "1 -0.055300   -585.0\n",
       "2 -0.100301  -1407.0\n",
       "3 -0.114529   -563.0\n",
       "4  0.080137     10.0\n",
       "5  0.072762     20.0\n",
       "6 -0.019815     -1.0"
      ]
     },
     "execution_count": 25,
     "metadata": {},
     "output_type": "execute_result"
    }
   ],
   "source": [
    "pd.DataFrame([ed_prop[:,1] - exp_freq/num_ed, np.around(obs_d0_ed-exp_freq)]).T.rename(columns = {0 : 'dif_prop', 1 : 'dif_num'})"
   ]
  },
  {
   "cell_type": "markdown",
   "metadata": {},
   "source": [
    "Проверим это различие с помощью критерия Пирсона:\n",
    "\n",
    "Нулевая гипотеза H0: рассматриваемый признак имеет равномерное распределение.\n",
    "\n",
    "Альтернативная гипотеза H1: H0 не верна.\n",
    "\n",
    "Условие применимости критерия, что наблюдаемые и ожидаемые значения должны быть не меньше 5. У нас данное условие выполненно:"
   ]
  },
  {
   "cell_type": "code",
   "execution_count": 44,
   "metadata": {},
   "outputs": [
    {
     "data": {
      "text/plain": [
       "array([   14.,  8549., 10700.,  3680.,   116.,   262.,    43.])"
      ]
     },
     "execution_count": 44,
     "metadata": {},
     "output_type": "execute_result"
    }
   ],
   "source": [
    "obs_d0_ed"
   ]
  },
  {
   "cell_type": "code",
   "execution_count": 26,
   "metadata": {},
   "outputs": [
    {
     "name": "stdout",
     "output_type": "stream",
     "text": [
      "[ True  True  True  True  True  True  True]\n",
      "[ True  True  True  True  True  True  True]\n"
     ]
    }
   ],
   "source": [
    "print(obs_d0_ed>=5)\n",
    "print(exp_freq>=5)"
   ]
  },
  {
   "cell_type": "code",
   "execution_count": 27,
   "metadata": {},
   "outputs": [
    {
     "data": {
      "text/plain": [
       "Power_divergenceResult(statistic=278.7725391716089, pvalue=3.653181595163598e-58)"
      ]
     },
     "execution_count": 27,
     "metadata": {},
     "output_type": "execute_result"
    }
   ],
   "source": [
    "stats.chisquare(obs_d0_ed, exp_freq, ddof = 1)"
   ]
  },
  {
   "cell_type": "markdown",
   "metadata": {},
   "source": [
    "Значение pvalue чрезвычайно мало, тем самым на уровне значимости 0.001 мы уверенно отвергаем нулевую гипотезу о том, что признак имеет равномерное распределение. Это означает, что ступень образования как то влияет на то, вернет ли человек долг.\n",
    "\n",
    "Поскольку число людей сгруппированных по признаку 'EDUCATION' сильно отличается, трудно говорить о том, какой признак является лучшим индикатором, что человек отдаст долг. Вполне возможно, у нас недостаточно данных по определенным группам. Однако, если рассматривать данную выборку, то доктора (группа 0) чаще отдают долг (а именно, в 100% случаев), а выпускники школ и люди с начальным образованием (группа 2 и 3) реже всех. Различие практичиски значимые, поскольку разница с ожидаемыми значениями достигает порядка 10%. "
   ]
  },
  {
   "cell_type": "markdown",
   "metadata": {},
   "source": [
    "### Признак MARRIAGE"
   ]
  },
  {
   "cell_type": "code",
   "execution_count": 28,
   "metadata": {},
   "outputs": [
    {
     "name": "stdout",
     "output_type": "stream",
     "text": [
      "2    15964\n",
      "1    13659\n",
      "3      323\n",
      "0       54\n",
      "Name: MARRIAGE, dtype: int64\n"
     ]
    }
   ],
   "source": [
    "print(data['MARRIAGE'].value_counts())"
   ]
  },
  {
   "cell_type": "code",
   "execution_count": 29,
   "metadata": {},
   "outputs": [
    {
     "data": {
      "image/png": "[encoded data removed]",
      "text/plain": [
       "<Figure size 360x504 with 1 Axes>"
      ]
     },
     "metadata": {
      "needs_background": "light"
     },
     "output_type": "display_data"
    }
   ],
   "source": [
    "plt.figure(figsize=(5,7))\n",
    "sns.countplot(x=data['MARRIAGE'], hue=data['default'], edgecolor='k')\n",
    "plt.show()"
   ]
  },
  {
   "cell_type": "markdown",
   "metadata": {},
   "source": [
    "Построим таблицу сопряженности."
   ]
  },
  {
   "cell_type": "code",
   "execution_count": 30,
   "metadata": {},
   "outputs": [],
   "source": [
    "mar_d0 = data[data['default'] == 0]['MARRIAGE']\n",
    "mar_d1 = data[data['default'] == 1]['MARRIAGE']\n",
    "\n",
    "cont_table = np.empty((len(data['MARRIAGE'].value_counts()), 2))\n",
    "\n",
    "for i in range(len(data['MARRIAGE'].value_counts())):\n",
    "    cont_table[i, 0] = len(mar_d0.loc[mar_d0 == i])\n",
    "    cont_table [i, 1] = len(mar_d1.loc[mar_d1 == i])"
   ]
  },
  {
   "cell_type": "code",
   "execution_count": 31,
   "metadata": {},
   "outputs": [
    {
     "data": {
      "text/plain": [
       "array([[4.9000e+01, 5.0000e+00],\n",
       "       [1.0453e+04, 3.2060e+03],\n",
       "       [1.2623e+04, 3.3410e+03],\n",
       "       [2.3900e+02, 8.4000e+01]])"
      ]
     },
     "execution_count": 31,
     "metadata": {},
     "output_type": "execute_result"
    }
   ],
   "source": [
    "cont_table"
   ]
  },
  {
   "cell_type": "markdown",
   "metadata": {},
   "source": [
    "Проверим критерием Пирсона гипотезу о связи признака \"MARRIAGE\" c \"default\", используя таблицу сопряженности. \n",
    "\n",
    "Нулевая гипотеза H0: признак \"MARRIAGE\" не влияет на признак \"default\"\n",
    "\n",
    "Альтернативная гипотеза H1: H0 не верна, т.е. признаки как то взаимосвязаны. "
   ]
  },
  {
   "cell_type": "code",
   "execution_count": 32,
   "metadata": {},
   "outputs": [
    {
     "data": {
      "text/plain": [
       "(35.66239583433609,\n",
       " 8.825862457577375e-08,\n",
       " 3,\n",
       " array([[4.20552000e+01, 1.19448000e+01],\n",
       "        [1.06376292e+04, 3.02137080e+03],\n",
       "        [1.24327632e+04, 3.53123680e+03],\n",
       "        [2.51552400e+02, 7.14476000e+01]]))"
      ]
     },
     "execution_count": 32,
     "metadata": {},
     "output_type": "execute_result"
    }
   ],
   "source": [
    "stats.chi2_contingency(cont_table)"
   ]
  },
  {
   "cell_type": "markdown",
   "metadata": {},
   "source": [
    "Значение pvalue чрезвычайно мало, тем самым на уровне значимости 0.001 мы уверенно отвергаем нулевую гипотезу об отсутствии взаимосвязи у признаков. Тем не менее мы не знаем точно в какой из групп обнаруженна эта связь. Вполне возможно, что связь обусловлена несбалансированой выборкой по группам.  Для того чтобы измерить возможную взаимосвязь, можно также посчитать коэффициент Краммера."
   ]
  },
  {
   "cell_type": "code",
   "execution_count": 33,
   "metadata": {},
   "outputs": [],
   "source": [
    "def cramers_stat(confusion_matrix):\n",
    "    chi2 = stats.chi2_contingency(confusion_matrix)[0]\n",
    "    n = confusion_matrix.sum()\n",
    "    return np.sqrt(chi2 / (n*(min(confusion_matrix.shape)-1)))"
   ]
  },
  {
   "cell_type": "code",
   "execution_count": 34,
   "metadata": {},
   "outputs": [
    {
     "name": "stdout",
     "output_type": "stream",
     "text": [
      "Коэфициент Краммера:  0.034478203662766466\n"
     ]
    }
   ],
   "source": [
    "print('Коэфициент Краммера: ',cramers_stat(cont_table))"
   ]
  },
  {
   "cell_type": "markdown",
   "metadata": {},
   "source": [
    "Чем ближе значение коэфициента Краммера к нулю, тем больше это говорит об отсутствии взаимосвязи между признаками. Таким образом, не смотря на то, что мы отвергли нулевую гипотезу об отсутствии взаимосвязи, коэфициент Краммера показывает, что зависимость незначительная."
   ]
  },
  {
   "cell_type": "markdown",
   "metadata": {},
   "source": [
    "### Признак AGE"
   ]
  },
  {
   "cell_type": "markdown",
   "metadata": {},
   "source": [
    "Будем применять тот же подходит, что и с признаком \"LIMIT_BALL\". Для начала посмотрим на распределение признака:"
   ]
  },
  {
   "cell_type": "code",
   "execution_count": 35,
   "metadata": {},
   "outputs": [
    {
     "data": {
      "image/png": "[encoded data removed]",
      "text/plain": [
       "<Figure size 360x504 with 1 Axes>"
      ]
     },
     "metadata": {
      "needs_background": "light"
     },
     "output_type": "display_data"
    }
   ],
   "source": [
    "plt.figure(figsize=(5,7))\n",
    "sns.boxplot(x=data['default'], y=data['AGE'], linewidth=2)\n",
    "plt.show()"
   ]
  },
  {
   "cell_type": "code",
   "execution_count": 36,
   "metadata": {},
   "outputs": [
    {
     "data": {
      "image/png": "[encoded data removed]",
      "text/plain": [
       "<Figure size 576x360 with 1 Axes>"
      ]
     },
     "metadata": {
      "needs_background": "light"
     },
     "output_type": "display_data"
    }
   ],
   "source": [
    "plt.figure(figsize=(8,5))\n",
    "plt.hist(data[data['default'] == 0]['AGE'], label='default: 0', edgecolor='k')\n",
    "plt.hist(data[data['default'] == 1]['AGE'], label='default: 1', edgecolor='k', color='tab:orange')\n",
    "plt.legend()\n",
    "plt.show()"
   ]
  },
  {
   "cell_type": "markdown",
   "metadata": {},
   "source": [
    "Построим доверительные интервалы для медиан с помощью бутстрепа:"
   ]
  },
  {
   "cell_type": "code",
   "execution_count": 37,
   "metadata": {},
   "outputs": [],
   "source": [
    "no_def_age = data[data['default'] == 0]['AGE'].values\n",
    "with_def_age = data[data['default'] == 1]['AGE'].values\n",
    "\n",
    "np.random.seed(0)\n",
    "\n",
    "no_def_age_scores = list(map(np.median, get_bootstrap_samples(no_def_age, 1000)))\n",
    "with_def_age_scores = list(map(np.median, get_bootstrap_samples(with_def_age, 1000)))"
   ]
  },
  {
   "cell_type": "code",
   "execution_count": 38,
   "metadata": {},
   "outputs": [
    {
     "name": "stdout",
     "output_type": "stream",
     "text": [
      "95% доверительный интервал для медианы выборки с default 0:  [34. 34.]\n",
      "95% доверительный интервал для медианы выборки с default 1:  [34. 35.]\n"
     ]
    }
   ],
   "source": [
    "print('95% доверительный интервал для медианы выборки с default 0: ', stat_intervals(no_def_age_scores, 0.05))\n",
    "print('95% доверительный интервал для медианы выборки с default 1: ', stat_intervals(with_def_age_scores, 0.05))"
   ]
  },
  {
   "cell_type": "code",
   "execution_count": 39,
   "metadata": {},
   "outputs": [
    {
     "name": "stdout",
     "output_type": "stream",
     "text": [
      "95% доверительный интервал для разности медиан:  [-1.  0.]\n"
     ]
    }
   ],
   "source": [
    "delta_median_scores_age = list(map(lambda x: x[0] - x[1], zip(no_def_age_scores, with_def_age_scores)))\n",
    "print('95% доверительный интервал для разности медиан: ',  stat_intervals(delta_median_scores_age, 0.05))"
   ]
  },
  {
   "cell_type": "markdown",
   "metadata": {},
   "source": [
    "Видим, что доверительные интервалы для медиан пересекаются, а также доверительный интервал для разности медиан содержит ноль. Все это говорит о том, что мы не может отвергнуть нулевую гипотезу о совпадении медиан. \n",
    "\n",
    "Проверим гипотезу о равенстве распределений с помощью непараметрического критерия Манни-Уитни:\n",
    "\n",
    "H0: распределения выборок полностью равны,\n",
    "H1: распределения выборок отличаются на величину сдвига."
   ]
  },
  {
   "cell_type": "code",
   "execution_count": 118,
   "metadata": {},
   "outputs": [
    {
     "data": {
      "text/plain": [
       "MannwhitneyuResult(statistic=76966879.5, pvalue=0.1862517717449308)"
      ]
     },
     "execution_count": 118,
     "metadata": {},
     "output_type": "execute_result"
    }
   ],
   "source": [
    "stats.mannwhitneyu(no_def_age, with_def_age)"
   ]
  },
  {
   "cell_type": "markdown",
   "metadata": {},
   "source": [
    "Значение pvalue > 0.05, т.е. мы не может отклонить нулевую гипотезу на уровне значимости 0.05. Таким образом, мы не можем утверждать, что возвращение долга как либо зависит от возраста."
   ]
  }
 ],
 "metadata": {
  "kernelspec": {
   "display_name": "Python 3",
   "language": "python",
   "name": "python3"
  },
  "language_info": {
   "codemirror_mode": {
    "name": "ipython",
    "version": 3
   },
   "file_extension": ".py",
   "mimetype": "text/x-python",
   "name": "python",
   "nbconvert_exporter": "python",
   "pygments_lexer": "ipython3",
   "version": "3.6.8"
  }
 },
 "nbformat": 4,
 "nbformat_minor": 4
}
